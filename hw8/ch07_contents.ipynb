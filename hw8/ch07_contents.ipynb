{
 "cells": [
  {
   "cell_type": "markdown",
   "metadata": {},
   "source": [
    "# Chapter 7 Array-Oriented Programming with NumPy\n",
    "\n",
    "## 7.1 Introduction\n",
    "\n",
    "* First appeared in 2006, NumPy is the preferred Python array implementation.\n",
    "* Offer a high-performance, richly functional *n*-dimensional array type called `ndarray`.\n",
    "    * Referred to as `array` from now on.\n",
    "* Operations on `array`s are up to 100x faster than those on lists.\n",
    "* Over 450 Python libraries depend on NumPy.\n",
    "\n",
    "* A strength of NumPy is \"array-oriented programming,\" which uses functional-style programming with *internal* iteration to make array manipulation concise and straightforward, eliminating the kinds of bugs that can occur with the *external* iteration of explicitly programmed loops.\n",
    "\n",
    "* **Supplements**"
   ]
  },
  {
   "cell_type": "markdown",
   "metadata": {},
   "source": [
    "## 7.2 Creating `array`s from Existing Data\n",
    "\n",
    "* The NumPy documentation recommends importing the `numpy` module as `np`."
   ]
  },
  {
   "cell_type": "code",
   "execution_count": 2,
   "metadata": {},
   "outputs": [],
   "source": [
    "import numpy as np"
   ]
  },
  {
   "cell_type": "markdown",
   "metadata": {},
   "source": [
    "The `array` function receives as an argument an `array` or other collection of elements and returns a new `array` containing the argument's elements."
   ]
  },
  {
   "cell_type": "code",
   "execution_count": 7,
   "metadata": {},
   "outputs": [
    {
     "name": "stdout",
     "output_type": "stream",
     "text": [
      "<class 'numpy.ndarray'>\n",
      "array([ 2,  3,  5,  7, 11])\n",
      "[ 2  3  5  7 11]\n"
     ]
    }
   ],
   "source": [
    "numbers = np.array([2,3,5,7,11])\n",
    "print(type(numbers))\n",
    "print(repr(numbers))\n",
    "print(numbers)"
   ]
  },
  {
   "cell_type": "markdown",
   "metadata": {},
   "source": [
    "* When outputting an `array`, NumPy separates each value from the next with a comma and a space and *right-align* all the values using the same field width."
   ]
  },
  {
   "cell_type": "markdown",
   "metadata": {},
   "source": [
    "### Multidimensional Arguments\n",
    "\n",
    "* The `array` function copies its argument's dimensions."
   ]
  },
  {
   "cell_type": "code",
   "execution_count": 8,
   "metadata": {},
   "outputs": [
    {
     "data": {
      "text/plain": [
       "array([[1, 2, 3],\n",
       "       [4, 5, 6]])"
      ]
     },
     "execution_count": 8,
     "metadata": {},
     "output_type": "execute_result"
    }
   ],
   "source": [
    "np.array([[1,2,3],[4,5,6]])"
   ]
  },
  {
   "cell_type": "markdown",
   "metadata": {},
   "source": [
    "## 7.3 `array` Attributes\n",
    "\n",
    "* An `array` object provides **attributes** that enable you to discover information about its structure and contents."
   ]
  },
  {
   "cell_type": "code",
   "execution_count": 10,
   "metadata": {},
   "outputs": [
    {
     "name": "stdout",
     "output_type": "stream",
     "text": [
      "array([[1, 2, 3],\n",
      "       [4, 5, 6]])\n",
      "array([0. , 0.1, 0.2, 0.3, 0.4])\n"
     ]
    }
   ],
   "source": [
    "import numpy as np\n",
    "\n",
    "integers = np.array([[1,2,3],[4,5,6]])\n",
    "print(repr(integers))\n",
    "\n",
    "floats = np.array([0.0,0.1,0.2,0.3,0.4])\n",
    "print(repr(floats))"
   ]
  },
  {
   "cell_type": "markdown",
   "metadata": {},
   "source": [
    "* NumPy does not display trailing 0s to the right of the decimal point in floating-point values."
   ]
  },
  {
   "cell_type": "markdown",
   "metadata": {},
   "source": [
    "### Determining an `array`'s Element Type\n",
    "\n",
    "* The `array` function determines an `array`'s element type from its argument's elements.\n",
    "* You can check the element type with an `array`'s **dtype** attribute."
   ]
  },
  {
   "cell_type": "code",
   "execution_count": 11,
   "metadata": {},
   "outputs": [
    {
     "name": "stdout",
     "output_type": "stream",
     "text": [
      "int64\n",
      "float64\n"
     ]
    }
   ],
   "source": [
    "print(integers.dtype)\n",
    "print(floats.dtype)"
   ]
  },
  {
   "cell_type": "markdown",
   "metadata": {},
   "source": [
    "* For performance reasons, NumPy is written in the C programming language and uses C's data types.\n",
    "* By default, NumPy stores integers as type `int64` and floating-point numbers as type `float64`.\n",
    "    * Most commomly used data types are `int64`, `float64`, `bool` (for Boolean) and `object` for non-numeric data (such as strings).\n",
    "    * 64 = 8 bits/byte * 8 bytes\n",
    "* **supplements**"
   ]
  },
  {
   "cell_type": "markdown",
   "metadata": {},
   "source": [
    "### Determining an `array`'s Dimensions\n",
    "\n",
    "* The attribute `ndim` contains an `array`'s number of dimensions.\n",
    "* The attribute `shape` contains a *tuple* specifying an `array`'s dimensions."
   ]
  },
  {
   "cell_type": "code",
   "execution_count": 12,
   "metadata": {},
   "outputs": [
    {
     "name": "stdout",
     "output_type": "stream",
     "text": [
      "2\n",
      "1\n",
      "(2, 3)\n",
      "(5,)\n"
     ]
    }
   ],
   "source": [
    "print(integers.ndim)\n",
    "print(floats.ndim)\n",
    "\n",
    "print(integers.shape)\n",
    "print(floats.shape)"
   ]
  },
  {
   "cell_type": "markdown",
   "metadata": {},
   "source": [
    "### Determining an `array`'s Number of Elements and Element Size\n",
    "\n",
    "* You can view an `array`'s total number of elements with the attribute `size`.\n",
    "* The attribute `itemsize` shows the number of bytes required to store each element."
   ]
  },
  {
   "cell_type": "code",
   "execution_count": 13,
   "metadata": {},
   "outputs": [
    {
     "name": "stdout",
     "output_type": "stream",
     "text": [
      "6\n",
      "8\n",
      "5\n",
      "8\n"
     ]
    }
   ],
   "source": [
    "print(integers.size)\n",
    "print(integers.itemsize)\n",
    "\n",
    "print(floats.size)\n",
    "print(floats.itemsize)"
   ]
  },
  {
   "cell_type": "markdown",
   "metadata": {},
   "source": [
    "### Iterating Through a Multidimensional `array`'s Elements\n",
    "\n",
    "* `array`s are *iterable* and you can use external iteration."
   ]
  },
  {
   "cell_type": "code",
   "execution_count": 14,
   "metadata": {},
   "outputs": [
    {
     "name": "stdout",
     "output_type": "stream",
     "text": [
      "1 2 3 \n",
      "4 5 6 \n"
     ]
    }
   ],
   "source": [
    "for row in integers:\n",
    "    for column in row:\n",
    "        print(column,end=' ')\n",
    "    print()"
   ]
  },
  {
   "cell_type": "markdown",
   "metadata": {},
   "source": [
    "* You can iterate through a multidimensional `array` as if it were one-dimensional by using its `flat` attribute."
   ]
  },
  {
   "cell_type": "code",
   "execution_count": 15,
   "metadata": {},
   "outputs": [
    {
     "name": "stdout",
     "output_type": "stream",
     "text": [
      "1 2 3 4 5 6 "
     ]
    }
   ],
   "source": [
    "for i in integers.flat:\n",
    "    print(i,end=' ')"
   ]
  },
  {
   "cell_type": "markdown",
   "metadata": {},
   "source": [
    "## 7.4 Filling `array`s with Specific Values\n",
    "\n",
    "* NumPy provides functions **zeros**, **ones**, and **full** for creating `array`s containing 0s, 1s, or a specfied value, respectively.\n",
    "    * The first argument must be an integer or a tuple of integers specifying the desired dimensions.\n",
    "    * For **zeros** and **ones**You can specify the `array`'s element type with the `dtype` keyword argument.\n",
    "    * The `array` returned by **full** contains elements with the second argument's value and type."
   ]
  },
  {
   "cell_type": "code",
   "execution_count": 22,
   "metadata": {},
   "outputs": [
    {
     "name": "stdout",
     "output_type": "stream",
     "text": [
      "array([0., 0., 0., 0., 0.])\n",
      "8\n",
      "float64\n",
      "array([[1, 1, 1, 1],\n",
      "       [1, 1, 1, 1]])\n",
      "8\n",
      "int64\n",
      "array([[13, 13, 13, 13, 13],\n",
      "       [13, 13, 13, 13, 13],\n",
      "       [13, 13, 13, 13, 13]])\n",
      "8\n",
      "int64\n"
     ]
    }
   ],
   "source": [
    "import numpy as np\n",
    "\n",
    "array_1 = np.zeros(5)\n",
    "print(repr(array_1))\n",
    "print(array_1.itemsize)\n",
    "print(array_1.dtype)\n",
    "\n",
    "array_2 = np.ones((2,4),dtype=int)\n",
    "print(repr(array_2))\n",
    "print(array_2.itemsize)\n",
    "print(array_2.dtype)\n",
    "\n",
    "array_3 = np.full((3,5),13)\n",
    "print(repr(array_3))\n",
    "print(array_3.itemsize)\n",
    "print(array_3.dtype)"
   ]
  },
  {
   "cell_type": "markdown",
   "metadata": {},
   "source": [
    "## 7.5 Creating `array`s from Ranges\n",
    "\n",
    "### Creating Integer Ranges with **arange**\n",
    "\n",
    "* NumPy's **arange** function creates integer ranges &mdash; similar to the built-in **range** function.\n",
    "* It is more efficient to use **arange** directly instead of passing **range**s as arguments."
   ]
  },
  {
   "cell_type": "code",
   "execution_count": 23,
   "metadata": {},
   "outputs": [
    {
     "name": "stdout",
     "output_type": "stream",
     "text": [
      "array([0, 1, 2, 3, 4])\n",
      "array([5, 6, 7, 8, 9])\n",
      "array([10,  8,  6,  4,  2])\n"
     ]
    }
   ],
   "source": [
    "import numpy as np\n",
    "\n",
    "a1 = np.arange(5)\n",
    "print(repr(a1))\n",
    "\n",
    "a2 = np.arange(5,10)\n",
    "print(repr(a2))\n",
    "\n",
    "a3 = np.arange(10,1,-2)\n",
    "print(repr(a3))"
   ]
  },
  {
   "cell_type": "markdown",
   "metadata": {},
   "source": [
    "### Creating Floating-Point Ranges with **linspace**\n",
    "\n",
    "* NumPy's **linspace** function produces evenly spaced floating-point ranges.\n",
    "    * The first two arguments specify the starting and ending values in the range, and the ending value is *included* in the `array`.\n",
    "    * The optional keyword argument `num` specifies the number of evenly spaced values to produce &mdash; the default value is 50."
   ]
  },
  {
   "cell_type": "code",
   "execution_count": 25,
   "metadata": {},
   "outputs": [
    {
     "data": {
      "text/plain": [
       "array([0.  , 0.25, 0.5 , 0.75, 1.  ])"
      ]
     },
     "execution_count": 25,
     "metadata": {},
     "output_type": "execute_result"
    }
   ],
   "source": [
    "np.linspace(0,1.0,num=5)"
   ]
  },
  {
   "cell_type": "markdown",
   "metadata": {},
   "source": [
    "### Reshaping an `array`\n",
    "\n",
    "* Using the `array` method **reshape**, you can transform any `array` provided that the new shape has the *same* number of elements as the original.\n",
    "    * ValueError."
   ]
  },
  {
   "cell_type": "code",
   "execution_count": 5,
   "metadata": {},
   "outputs": [
    {
     "name": "stdout",
     "output_type": "stream",
     "text": [
      "[ 1  2  3  4  5  6  7  8  9 10 11 12 13 14 15 16 17 18 19 20]\n",
      "[[ 1  2  3  4  5]\n",
      " [ 6  7  8  9 10]\n",
      " [11 12 13 14 15]\n",
      " [16 17 18 19 20]]\n",
      "[[ 1  2  3  4]\n",
      " [ 5  6  7  8]\n",
      " [ 9 10 11 12]\n",
      " [13 14 15 16]\n",
      " [17 18 19 20]]\n",
      "\n",
      "[ 0  2  3  4  5  6  7  8  9 10 11 12 13 14 15 16 17 18 19 20]\n",
      "[[ 0  2  3  4  5]\n",
      " [ 6  7  8  9 10]\n",
      " [11 12 13 14 15]\n",
      " [16 17 18 19 20]]\n",
      "[[ 0  2  3  4]\n",
      " [ 5  6  7  8]\n",
      " [ 9 10 11 12]\n",
      " [13 14 15 16]\n",
      " [17 18 19 20]]\n"
     ]
    }
   ],
   "source": [
    "import numpy as np\n",
    "\n",
    "a1 = np.arange(1,21)\n",
    "\n",
    "print(a1)\n",
    "\n",
    "a2 = a1.reshape(4,5)\n",
    "print(a2)\n",
    "\n",
    "a3 = a2.reshape(5,4)\n",
    "print(a3)\n",
    "\n",
    "print()\n",
    "\n",
    "a1[0] = 0\n",
    "print(a1)\n",
    "print(a2)\n",
    "print(a3) # weird??"
   ]
  },
  {
   "cell_type": "markdown",
   "metadata": {},
   "source": [
    "### Displaying Large `array`s\n",
    "\n",
    "* When displaying large `array`s, NumpPy drops the middle rows, columns, or both from the output.\n",
    "* The notation `...` represents the missing data."
   ]
  },
  {
   "cell_type": "code",
   "execution_count": 28,
   "metadata": {},
   "outputs": [
    {
     "name": "stdout",
     "output_type": "stream",
     "text": [
      "[[     1      2      3 ...  24998  24999  25000]\n",
      " [ 25001  25002  25003 ...  49998  49999  50000]\n",
      " [ 50001  50002  50003 ...  74998  74999  75000]\n",
      " [ 75001  75002  75003 ...  99998  99999 100000]]\n",
      "[[     1      2      3 ...    998    999   1000]\n",
      " [  1001   1002   1003 ...   1998   1999   2000]\n",
      " [  2001   2002   2003 ...   2998   2999   3000]\n",
      " ...\n",
      " [ 97001  97002  97003 ...  97998  97999  98000]\n",
      " [ 98001  98002  98003 ...  98998  98999  99000]\n",
      " [ 99001  99002  99003 ...  99998  99999 100000]]\n"
     ]
    }
   ],
   "source": [
    "print(np.arange(1,100001).reshape(4,25000))\n",
    "print(np.arange(1,100001).reshape(100,1000))"
   ]
  },
  {
   "cell_type": "markdown",
   "metadata": {},
   "source": [
    "## 7.6 `list` vs. `array` Performance: Introducing `%timeit`"
   ]
  },
  {
   "cell_type": "markdown",
   "metadata": {},
   "source": [
    "## 7.7 `array` Operators\n",
    "\n",
    "NumPy provides many operators which enable you to write simple expressions that perform operations on entire `array`s.\n",
    "* Between `array`s and numeric values or between `array`s of the same type."
   ]
  },
  {
   "cell_type": "markdown",
   "metadata": {},
   "source": [
    "### Arithmetic Operations with `array`s and Individual Numeric Values\n",
    "\n",
    "* *Element-wise arithmetic* with `array`s and numeric values by using arithmetic operators and augmented assignments.\n",
    "    * With arithmetic operators, a *new* `array` is returned.\n",
    "    * With augmented assignment, the left-hand-side operand is modified."
   ]
  },
  {
   "cell_type": "code",
   "execution_count": 2,
   "metadata": {},
   "outputs": [
    {
     "name": "stdout",
     "output_type": "stream",
     "text": [
      "[1 2 3 4 5]\n",
      "[ 2  4  6  8 10]\n",
      "[  3   9  27  81 243]\n",
      "[1 2 3 4 5]\n",
      "[ 6  7  8  9 10]\n"
     ]
    }
   ],
   "source": [
    "import numpy as np\n",
    "\n",
    "numbers = np.arange(1,6)\n",
    "print(numbers)\n",
    "\n",
    "print(numbers * 2)\n",
    "print(3 ** numbers)\n",
    "print(numbers)\n",
    "\n",
    "numbers += 5\n",
    "print(numbers)"
   ]
  },
  {
   "cell_type": "markdown",
   "metadata": {},
   "source": [
    "### Broadcasting\n",
    "\n",
    "* Normally, arithmetic operations require as operands two `array`s of the *same size* and *shape*.\n",
    "* **Broadcasting**: When one operand is a single value, called **scalar**, NumPy performs the element-wise calculations as if the scalar were an `array` of the same shape as the other operand, but with the scalar value in all its elements.\n",
    "    * For example, `numbers * 2` is equivalent to `numbers * [2, 2, 2, 2, 2]` assuming that `numbers` is an array of five elements.\n",
    "* Broadcasting can be applied between `array`s of different sizes and shapes, enabling some concise and powerful manipulations."
   ]
  },
  {
   "cell_type": "markdown",
   "metadata": {},
   "source": [
    "### Arithmetic Operations Between `array`s\n",
    "\n",
    "* Arithmetic operations and augmented assignments between `array`s of the *same* shape perform element-wise operations and return new `array`s."
   ]
  },
  {
   "cell_type": "code",
   "execution_count": 4,
   "metadata": {},
   "outputs": [
    {
     "name": "stdout",
     "output_type": "stream",
     "text": [
      "[1 2 3 4 5]\n",
      "[1.1 2.2 3.3 4.4 5.5]\n",
      "[ 1.1  4.4  9.9 17.6 27.5]\n"
     ]
    }
   ],
   "source": [
    "numbers1 = np.arange(1,6)\n",
    "numbers2 = np.linspace(1.1,5.5,5)\n",
    "print(numbers1)\n",
    "print(numbers2)\n",
    "\n",
    "numbers3 = numbers1 * numbers2\n",
    "print(numbers3)"
   ]
  },
  {
   "cell_type": "markdown",
   "metadata": {},
   "source": [
    "### Comparing `array`s\n",
    "\n",
    "* You can compare `array`s element-wise with invidual values and with other `array`s.\n",
    "* Such comparisons produce `array`s of Boolean values in which each element's `True` or `False ` value indicates the comparison result."
   ]
  },
  {
   "cell_type": "code",
   "execution_count": 7,
   "metadata": {},
   "outputs": [
    {
     "name": "stdout",
     "output_type": "stream",
     "text": [
      "[11 12 13 14 15]\n",
      "[False False  True  True  True]\n",
      "[10.  12.5 15.  17.5 20. ]\n",
      "[ True  True False False False]\n",
      "[ True False False False False]\n",
      "[False False False False False]\n",
      "[ True  True  True  True  True]\n"
     ]
    }
   ],
   "source": [
    "numbers1 = np.arange(11,16)\n",
    "print(numbers1)\n",
    "\n",
    "print(numbers1 >= 13) # broadcasting\n",
    "\n",
    "numbers2 = np.linspace(10,20,5)\n",
    "print(numbers2)\n",
    "\n",
    "print(numbers1 < 13)\n",
    "print(numbers2 < numbers1)\n",
    "print(numbers1 == numbers2)\n",
    "print(numbers1 != numbers2)"
   ]
  },
  {
   "cell_type": "markdown",
   "metadata": {},
   "source": [
    "## 7.8 Numpy Calculation Methods\n",
    "\n",
    "* An `array` has various methods that perform calculations using its contents.\n",
    "* By default, `array` calculation methods ignore the `array`'s shape and use *all* the elements in the calculations.\n",
    "    * You can perform these calculations on each dimension as well."
   ]
  },
  {
   "cell_type": "code",
   "execution_count": 7,
   "metadata": {},
   "outputs": [
    {
     "name": "stdout",
     "output_type": "stream",
     "text": [
      "1054\n",
      "70\n",
      "100\n",
      "87.83333333333333\n",
      "8.792357792739987\n",
      "77.30555555555556\n"
     ]
    }
   ],
   "source": [
    "import numpy as np\n",
    "\n",
    "grades = np.array([\n",
    "    [87,96,70],\n",
    "    [100,87,90],\n",
    "    [94,77,90],\n",
    "    [100,81,82]\n",
    "])\n",
    "\n",
    "print(grades.sum())\n",
    "print(grades.min())\n",
    "print(grades.max())\n",
    "print(grades.mean())\n",
    "print(grades.std())\n",
    "print(grades.var())"
   ]
  },
  {
   "cell_type": "markdown",
   "metadata": {},
   "source": [
    "### Calculations by Row or Column\n",
    "\n",
    "* Many calculation methods can be performed on specific `array` dimensions, known as the `array`'s *axes*.\n",
    "* These methods receive an `axis` keyword argument that specifies which dimension to use in the calculation.\n",
    "* Check https://docs.scipy.org/doc/numpy/reference/arrays.ndarray.html for more calculation methods."
   ]
  },
  {
   "cell_type": "code",
   "execution_count": 8,
   "metadata": {},
   "outputs": [
    {
     "name": "stdout",
     "output_type": "stream",
     "text": [
      "[95.25 85.25 83.  ]\n",
      "[ 96 100  94 100]\n"
     ]
    }
   ],
   "source": [
    "print(grades.mean(axis=0))\n",
    "print(grades.max(axis=1))"
   ]
  },
  {
   "cell_type": "markdown",
   "metadata": {},
   "source": [
    "## 7.9 Universal Functions\n",
    "\n",
    "* NumPy offers dozens of standalone **universal functions** (or **ufuncs**) that perform various element-wise operations.\n",
    "* Each performs its task using one or two `array` or array-like (such as lists) arguments.\n",
    "* Some of these methods are called when you use operators like + and * on `array`s.\n",
    "* Each returns a new `array` containing the results."
   ]
  },
  {
   "cell_type": "code",
   "execution_count": 10,
   "metadata": {},
   "outputs": [
    {
     "name": "stdout",
     "output_type": "stream",
     "text": [
      "[1. 2. 3. 4. 5. 6.]\n",
      "[11 24 39 56 75 96]\n"
     ]
    }
   ],
   "source": [
    "import numpy as np\n",
    "\n",
    "numbers1 = np.arange(1,7) ** 2\n",
    "print(np.sqrt(numbers1))\n",
    "\n",
    "numbers2 = np.arange(1,7) * 10\n",
    "print(np.add(numbers1,numbers2))"
   ]
  },
  {
   "cell_type": "markdown",
   "metadata": {},
   "source": [
    "### Broadcasting with Universal Functions\n",
    "\n",
    "* You can view the broadcasting rules at: https://docs.scipy.org/doc/numpy/user/basics.broadcasting.html.\n",
    "* The complete list of universal functions, their descriptions, and more information can be found at https://docs.scipy.org/doc/numpy/reference/ufuncs.html."
   ]
  },
  {
   "cell_type": "code",
   "execution_count": 14,
   "metadata": {},
   "outputs": [
    {
     "name": "stdout",
     "output_type": "stream",
     "text": [
      "[  5  20  45  80 125 180]\n",
      "[[ 1  4  9]\n",
      " [16 25 36]]\n",
      "[2 4 6]\n",
      "[[  2  16  54]\n",
      " [ 32 100 216]]\n"
     ]
    }
   ],
   "source": [
    "print(np.multiply(numbers1,5))\n",
    "\n",
    "numbers3 = numbers1.reshape(2,3)\n",
    "print(numbers3)\n",
    "\n",
    "numbers4 = np.array([2,4,6])\n",
    "print(numbers4)\n",
    "\n",
    "print(np.multiply(numbers3,numbers4))"
   ]
  },
  {
   "cell_type": "markdown",
   "metadata": {},
   "source": [
    "## 7.10 Indexing and Slicing\n",
    "\n",
    "* One-dimensional `array`s can be indexed and sliced using the syntax and techniques as sequences.\n",
    "* There are some `array`-specific indexing and slicing capabilities."
   ]
  },
  {
   "cell_type": "markdown",
   "metadata": {},
   "source": [
    "### Indexing with Two-Dimensional `array`s\n",
    "\n",
    "* To select an element in a two-dimensional `array`, specify a tuple containing the element's row and column indices in squrare brackets."
   ]
  },
  {
   "cell_type": "code",
   "execution_count": 1,
   "metadata": {},
   "outputs": [
    {
     "data": {
      "text/plain": [
       "96"
      ]
     },
     "execution_count": 1,
     "metadata": {},
     "output_type": "execute_result"
    }
   ],
   "source": [
    "import numpy as np\n",
    "\n",
    "grades = np.array([\n",
    "    [87,96,70],\n",
    "    [100,87,90],\n",
    "    [94,77,90],\n",
    "    [100,81,82]\n",
    "])\n",
    "\n",
    "grades[0,1]"
   ]
  },
  {
   "cell_type": "markdown",
   "metadata": {},
   "source": [
    "### Selecting a Subset of a Two-Dimensional `array`'s Rows\n",
    "\n",
    "* To select a single row, specify only one index in square brackets.\n",
    "* To select multiple rows, use slice notation or a list of row indices."
   ]
  },
  {
   "cell_type": "code",
   "execution_count": 4,
   "metadata": {},
   "outputs": [
    {
     "name": "stdout",
     "output_type": "stream",
     "text": [
      "[[ 87  96  70]\n",
      " [100  87  90]\n",
      " [ 94  77  90]\n",
      " [100  81  82]]\n",
      "[100  87  90]\n",
      "[[ 87  96  70]\n",
      " [100  87  90]]\n",
      "[[100  87  90]\n",
      " [100  81  82]]\n"
     ]
    }
   ],
   "source": [
    "print(grades)\n",
    "print(grades[1])\n",
    "print(grades[0:2])\n",
    "print(grades[[1,3]])"
   ]
  },
  {
   "cell_type": "markdown",
   "metadata": {},
   "source": [
    "### Selecting a Subset of a Two-Dimensional `array`'s Columns\n",
    "\n",
    "* You can select subsets of the columns by providing a tuple specifying the row(s) and column(s) to select.\n",
    "* Each can be a specific index, a slice, or a list."
   ]
  },
  {
   "cell_type": "code",
   "execution_count": 5,
   "metadata": {},
   "outputs": [
    {
     "name": "stdout",
     "output_type": "stream",
     "text": [
      "[ 87 100  94 100]\n",
      "[[96 70]\n",
      " [87 90]\n",
      " [77 90]\n",
      " [81 82]]\n",
      "[[ 87  70]\n",
      " [100  90]\n",
      " [ 94  90]\n",
      " [100  82]]\n"
     ]
    }
   ],
   "source": [
    "import numpy as np\n",
    "\n",
    "grades = np.array([\n",
    "    [87,96,70],\n",
    "    [100,87,90],\n",
    "    [94,77,90],\n",
    "    [100,81,82]\n",
    "])\n",
    "\n",
    "print(grades[:,0])   # first column\n",
    "print(grades[:,1:3]) # select consecutive columns using a slice\n",
    "print(grades[:,[0,2]]) # select specific columns using a list of column indices"
   ]
  },
  {
   "cell_type": "markdown",
   "metadata": {},
   "source": [
    "## 7.11 Views: Shallow Copies\n",
    "\n",
    "* *view objects* &mdash; objects that \"see\" the data in other objects, rather than having their own copies of the data.\n",
    "* Views are also known as **shallow copies**.\n",
    "\n",
    "* The `array` method **view** returns a *new* array object with a *view* of the original `array` object's data.\n",
    "    * The returned view and the original `array` are *different* objects.\n",
    "    * But, the returned `array` views the *same* data as the original `array`.\n",
    "    * Changing a value in the view also changes the value in the original `array`."
   ]
  },
  {
   "cell_type": "code",
   "execution_count": 11,
   "metadata": {},
   "outputs": [
    {
     "name": "stdout",
     "output_type": "stream",
     "text": [
      "[1 2 3 4 5 6]\n",
      "[1 2 3 4 5 6]\n",
      "<class 'numpy.ndarray'>\n",
      "4528057168\n",
      "<class 'numpy.ndarray'>\n",
      "4528410128\n",
      "[11  2  3  4  5  6]\n",
      "[11  2  3  4  5  6]\n",
      "[11  2  3  4  5 60]\n",
      "[11  2  3  4  5 60]\n"
     ]
    }
   ],
   "source": [
    "import numpy as np\n",
    "\n",
    "numbers = np.arange(1,7)\n",
    "numbers_view = numbers.view()\n",
    "\n",
    "print(numbers)\n",
    "print(numbers_view)\n",
    "\n",
    "# The original array and the view are different objects.\n",
    "print(type(numbers))\n",
    "print(id(numbers))\n",
    "\n",
    "print(type(numbers_view))\n",
    "print(id(numbers_view))\n",
    "\n",
    "# But they see the same data.\n",
    "numbers[0] += 10\n",
    "print(numbers)\n",
    "print(numbers_view)\n",
    "\n",
    "numbers_view[-1] *= 10\n",
    "print(numbers)\n",
    "print(numbers_view)"
   ]
  },
  {
   "cell_type": "markdown",
   "metadata": {},
   "source": [
    "### Slice Views\n",
    "\n",
    "Slices also create views."
   ]
  },
  {
   "cell_type": "code",
   "execution_count": 13,
   "metadata": {},
   "outputs": [
    {
     "name": "stdout",
     "output_type": "stream",
     "text": [
      "[ 0 10  2  3  4  5]\n",
      "[10  2  3]\n",
      "[ 0 10  2 30  4  5]\n",
      "[10  2 30]\n"
     ]
    }
   ],
   "source": [
    "import numpy as np\n",
    "\n",
    "numbers = np.arange(0,6)\n",
    "numbers_slice = numbers[1:4]\n",
    "\n",
    "numbers[1] *= 10\n",
    "print(numbers)\n",
    "print(numbers_slice)\n",
    "\n",
    "numbers_slice[2] *= 10\n",
    "print(numbers)\n",
    "print(numbers_slice)"
   ]
  },
  {
   "cell_type": "markdown",
   "metadata": {},
   "source": [
    "## 7.12 Deep Copies\n",
    "\n",
    "* Though views are *separate* `array` objects, they save memory by sharing element data from other `array`s.\n",
    "* When sharing *mutable* values, sometimes it's necessary to create a **deep copy** with *independent* copies of the original data.\n",
    "* The **array method copy** returns a new array object with a *deep copy* of the original `array` object's data."
   ]
  },
  {
   "cell_type": "code",
   "execution_count": 14,
   "metadata": {},
   "outputs": [
    {
     "name": "stdout",
     "output_type": "stream",
     "text": [
      "[0 1 2 3 4 5]\n",
      "[0 1 2 3 4 5]\n",
      "[ 0 10  2  3  4  5]\n",
      "[0 1 2 3 4 5]\n"
     ]
    }
   ],
   "source": [
    "import numpy as np\n",
    "\n",
    "numbers = np.arange(0,6)\n",
    "numbers_copy = numbers.copy()\n",
    "\n",
    "print(numbers)\n",
    "print(numbers_copy)\n",
    "\n",
    "numbers[1] *= 10\n",
    "print(numbers)\n",
    "print(numbers_copy)"
   ]
  },
  {
   "cell_type": "markdown",
   "metadata": {},
   "source": [
    "### Module `copy` &mdash; Shallow vs. Deep Copies for Other Types of Python Objects\n",
    "\n",
    "If you need deep copies of ther types of Python objects, pass them to the **copy** module's **deepcopy** function."
   ]
  },
  {
   "cell_type": "markdown",
   "metadata": {},
   "source": [
    "## 7.13 Reshaping and Transposing\n",
    "\n",
    "### **reshape** vs. **resize**\n",
    "\n",
    "* The array methods `reshape` and `resize` both enable you to change an array's dimensions.\n",
    "* `reshape` returns a *view* (shallow copy) of the original `array` with the new dimensions.\n",
    "    * It does *not* modify the original array.\n",
    "* `resize` *modifies the original `array`'s shape*."
   ]
  },
  {
   "cell_type": "code",
   "execution_count": 20,
   "metadata": {},
   "outputs": [
    {
     "name": "stdout",
     "output_type": "stream",
     "text": [
      "[[ 87  96  70]\n",
      " [100  87  90]]\n",
      "[[ 87  96  70 100  87  90]]\n",
      "\n",
      "[[ 80  96  70]\n",
      " [100  87  90]]\n",
      "[[ 80  96  70 100  87  90]]\n",
      "\n",
      "[[ 80  96  10]\n",
      " [100  87  90]]\n",
      "[[ 80  96  10 100  87  90]]\n"
     ]
    }
   ],
   "source": [
    "import numpy as np\n",
    "\n",
    "grades = np.array([[87,96,70],[100,87,90]])\n",
    "reshaped = grades.reshape(1,6)\n",
    "\n",
    "print(grades)\n",
    "print(reshaped)\n",
    "print()\n",
    "\n",
    "grades[0,0] = 80\n",
    "print(grades)\n",
    "print(reshaped)\n",
    "print()\n",
    "\n",
    "reshaped[0,2] = 10\n",
    "print(grades)\n",
    "print(reshaped)\n"
   ]
  },
  {
   "cell_type": "code",
   "execution_count": 23,
   "metadata": {},
   "outputs": [
    {
     "name": "stdout",
     "output_type": "stream",
     "text": [
      "[[ 87  96  70]\n",
      " [100  87  90]]\n",
      "[[ 87  96  70 100  87  90]]\n"
     ]
    }
   ],
   "source": [
    "import numpy as np\n",
    "\n",
    "grades = np.array([[87,96,70],[100,87,90]])\n",
    "\n",
    "print(grades)\n",
    "grades.resize(1,6)\n",
    "print(grades)"
   ]
  },
  {
   "cell_type": "markdown",
   "metadata": {},
   "source": [
    "### **flatten** vs. **ravel**\n",
    "\n",
    "* You can take a multidimensional array and flatten it into a single dimension with the methods **flatten** and **ravel**.\n",
    "* Method `flatten` *deep copies* the original array's data.\n",
    "* Method `ravel` produces a *view* of the original `array`, which *shares* the original array's data."
   ]
  },
  {
   "cell_type": "code",
   "execution_count": 25,
   "metadata": {},
   "outputs": [
    {
     "name": "stdout",
     "output_type": "stream",
     "text": [
      "[[ 87  96  70]\n",
      " [100  87  90]]\n",
      "[ 87  96  70 100  87  90]\n",
      "\n",
      "[[100  96  70]\n",
      " [100  87  90]]\n",
      "[ 87  96  70 100  87  90]\n",
      "\n",
      "[[100  96  70]\n",
      " [100  87  90]]\n",
      "[100  96  70 100  87  90]\n",
      "\n",
      "[[ 87  96  70]\n",
      " [100  87  90]]\n",
      "[ 87  96  70 100  87  90]\n"
     ]
    }
   ],
   "source": [
    "import numpy as np\n",
    "\n",
    "grades = np.array([[87,96,70],[100,87,90]])\n",
    "flattened = grades.flatten()\n",
    "\n",
    "print(grades)\n",
    "print(flattened)\n",
    "print()\n",
    "\n",
    "grades[0,0] = 100\n",
    "print(grades)\n",
    "print(flattened)\n",
    "print()\n",
    "\n",
    "raveled = grades.ravel()\n",
    "print(grades)\n",
    "print(raveled)\n",
    "print()\n",
    "\n",
    "raveled[0] = 87\n",
    "print(grades)\n",
    "print(raveled)\n",
    "\n"
   ]
  },
  {
   "cell_type": "markdown",
   "metadata": {},
   "source": [
    "### Transposing Rows and Columns\n",
    "\n",
    "* The **T** attribute returns a transposed *view* (shallow copy) of the `array`."
   ]
  },
  {
   "cell_type": "code",
   "execution_count": 27,
   "metadata": {},
   "outputs": [
    {
     "name": "stdout",
     "output_type": "stream",
     "text": [
      "[[ 87  96  70]\n",
      " [100  87  90]]\n",
      "[[ 87 100]\n",
      " [ 96  87]\n",
      " [ 70  90]]\n",
      "\n",
      "[[100  96  70]\n",
      " [100  87  90]]\n",
      "[[100 100]\n",
      " [ 96  87]\n",
      " [ 70  90]]\n"
     ]
    }
   ],
   "source": [
    "import numpy as np\n",
    "\n",
    "grades = np.array([[87,96,70],[100,87,90]])\n",
    "print(grades)\n",
    "print(grades.T)\n",
    "print()\n",
    "\n",
    "grades.T[0,0] = 100\n",
    "print(grades)\n",
    "print(grades.T)"
   ]
  },
  {
   "cell_type": "markdown",
   "metadata": {},
   "source": [
    "### Horizontal and Vertical Stacking\n",
    "\n",
    "* You can combine arrays by adding more columns or more rows &mdash; known as *horizontal stacking* and *vertical stacking*.\n",
    "* **hstack**: horizontal stack function\n",
    "* **vstack**: vertical stack function"
   ]
  },
  {
   "cell_type": "code",
   "execution_count": 31,
   "metadata": {},
   "outputs": [
    {
     "name": "stdout",
     "output_type": "stream",
     "text": [
      "[[ 87  96  70  94  77  90]\n",
      " [100  87  90 100  81  82]]\n",
      "\n",
      "[[ 87  96  70]\n",
      " [100  87  90]\n",
      " [ 94  77  90]\n",
      " [100  81  82]]\n",
      "\n",
      "[[ 87  96  70]\n",
      " [100  87  90]]\n",
      "[[100  96  70]\n",
      " [100  87  90]\n",
      " [ 94  77  90]\n",
      " [100  81  82]]\n"
     ]
    }
   ],
   "source": [
    "import numpy as np\n",
    "\n",
    "grades_1 = np.array([[87,96,70],[100,87,90]])\n",
    "grades_2 = np.array([[94,77,90],[100,81,82]])\n",
    "\n",
    "horizontal_stack = np.hstack((grades_1,grades_2))\n",
    "print(horizontal_stack,end='\\n\\n')\n",
    "\n",
    "vertical_stack = np.vstack((grades_1,grades_2))\n",
    "print(vertical_stack,end='\\n\\n')\n",
    "\n",
    "vertical_stack[0,0] = 100\n",
    "print(grades_1)\n",
    "print(vertical_stack)"
   ]
  },
  {
   "cell_type": "markdown",
   "metadata": {},
   "source": [
    "## 7.14 Intro to Data Science: pandas `Series` and `DataFrames`\n",
    "\n",
    "* NumPy's `array` is optimized for homogeneous numeric data that's accessed via integer indices.\n",
    "* Big data applications must support mixed data types, customized indexing, missing data, data that's not structured consistently, and data that needs to be manipulated into forms appropriate for the databases and data analysis packages you use.\n",
    "* **Pandas** is the most popular library for dealing with such data.\n",
    "    * It provides two key collctions &mdash; `Series` for one-dimensional collections and `DataFrames` for two-dimensional data.\n",
    "    * You can use Panda's `MultiIndex` to manipulate multi-dimensional data in the context of `Series` and `DataFrames`.\n",
    "* NumPy and pandas are intimately related.\n",
    "    * `Series` and `DataFrame`s use arrays \"under the hood.\"\n",
    "    * `Series` and `DataFrame`s are valid arguments to many NumPy operations.\n",
    "    * `array`s are valid arguments to many `Series` and `DataFrame` operations. "
   ]
  },
  {
   "cell_type": "markdown",
   "metadata": {},
   "source": [
    "### pandas `Series`\n",
    "\n",
    "* A `Series` is an enhanced one-dimensional `array`.\n",
    "* Whereas `array`s use only zero-based integer indices, `Series` support custom indexing, including even non-integer indices like strings.\n",
    "* `Series` also offer additional capabilities that make them more convenient for many data-science oriented tasks.\n",
    "    * For example, `Series` may have missing data, and many `Series` operations ignore missing data by default."
   ]
  },
  {
   "cell_type": "markdown",
   "metadata": {},
   "source": [
    "#### Creating a `Series` with Default Indices\n",
    "\n",
    "* By default, a `Series` has integer indices numbered sequentially from 0."
   ]
  },
  {
   "cell_type": "code",
   "execution_count": 33,
   "metadata": {},
   "outputs": [
    {
     "name": "stdout",
     "output_type": "stream",
     "text": [
      "0     87\n",
      "1    100\n",
      "2     94\n",
      "dtype: int64\n",
      "\n",
      "0     87\n",
      "1    100\n",
      "2     94\n",
      "dtype: int64\n",
      "\n",
      "one        1\n",
      "2        two\n",
      "3      three\n",
      "dtype: object\n"
     ]
    }
   ],
   "source": [
    "import pandas as pd\n",
    "\n",
    "grades1 = pd.Series([87,100,94])\n",
    "print(grades1,end='\\n\\n')\n",
    "\n",
    "grades2 = pd.Series(grades1)\n",
    "print(grades2,end='\\n\\n')\n",
    "\n",
    "grades3 = pd.Series({'one':1,2:'two',3:'three'})\n",
    "print(grades3)\n"
   ]
  },
  {
   "cell_type": "markdown",
   "metadata": {},
   "source": [
    "#### Displaying a `Series`\n",
    "\n",
    "* Pandas displays a `Series` in two-column format with the indices *left aligned* in the left column and the values *righ aligned* in the right column.\n",
    "* After listing the `Series` elements, pandas shows the data type (`dtype`) of the underlying `array`'s elements."
   ]
  },
  {
   "cell_type": "markdown",
   "metadata": {},
   "source": [
    "#### Creating a `Series` with All Elements Having the Same Value"
   ]
  },
  {
   "cell_type": "code",
   "execution_count": 34,
   "metadata": {},
   "outputs": [
    {
     "data": {
      "text/plain": [
       "2    98.6\n",
       "3    98.6\n",
       "4    98.6\n",
       "5    98.6\n",
       "6    98.6\n",
       "7    98.6\n",
       "dtype: float64"
      ]
     },
     "execution_count": 34,
     "metadata": {},
     "output_type": "execute_result"
    }
   ],
   "source": [
    "pd.Series(98.6,range(2,8))"
   ]
  },
  {
   "cell_type": "markdown",
   "metadata": {},
   "source": [
    "* The second argument is a one-dimensional iterable object (such as a list, and `array`, or a `range`) containing the `Series`' indices.\n",
    "* The number of indices determines the number of elements."
   ]
  },
  {
   "cell_type": "markdown",
   "metadata": {},
   "source": [
    "#### Accessing a `Series`' Elements\n",
    "* Via square brackets containing an index."
   ]
  },
  {
   "cell_type": "code",
   "execution_count": 39,
   "metadata": {},
   "outputs": [
    {
     "name": "stdout",
     "output_type": "stream",
     "text": [
      "87\n",
      "\n",
      "1    100\n",
      "2     94\n",
      "dtype: int64\n"
     ]
    }
   ],
   "source": [
    "import pandas as pd\n",
    "\n",
    "grades = pd.Series([87,100,94,95,90])\n",
    "\n",
    "print(grades[0],end='\\n\\n')\n",
    "\n",
    "print(grades[1:3])"
   ]
  },
  {
   "cell_type": "markdown",
   "metadata": {},
   "source": [
    "#### Producing Descriptive Statistics for a Series"
   ]
  },
  {
   "cell_type": "code",
   "execution_count": 40,
   "metadata": {},
   "outputs": [
    {
     "name": "stdout",
     "output_type": "stream",
     "text": [
      "5\n",
      "\n",
      "93.2\n",
      "\n",
      "87\n",
      "\n",
      "100\n",
      "\n",
      "4.969909455915671\n",
      "\n"
     ]
    },
    {
     "data": {
      "text/plain": [
       "count      5.000000\n",
       "mean      93.200000\n",
       "std        4.969909\n",
       "min       87.000000\n",
       "25%       90.000000\n",
       "50%       94.000000\n",
       "75%       95.000000\n",
       "max      100.000000\n",
       "dtype: float64"
      ]
     },
     "execution_count": 40,
     "metadata": {},
     "output_type": "execute_result"
    }
   ],
   "source": [
    "print(grades.count(),end='\\n\\n')\n",
    "print(grades.mean(),end='\\n\\n')\n",
    "print(grades.min(),end='\\n\\n')\n",
    "print(grades.max(),end='\\n\\n')\n",
    "print(grades.std(),end='\\n\\n')\n",
    "\n",
    "grades.describe()"
   ]
  },
  {
   "cell_type": "markdown",
   "metadata": {},
   "source": [
    "* The `Series` method **describe** produces all the stats.\n",
    "    * The 25%, 50%, and 75% are **quartiles**.\n",
    "    * The **interquartile range** is the 75% quartile minus the 25% quartile, which is another measure of dispersion, just like standard deviation and variance."
   ]
  },
  {
   "cell_type": "markdown",
   "metadata": {},
   "source": [
    "#### Creating a `Series` with Custom Indices\n",
    "\n",
    "You can specify *custom* indices with the `index` keyword argument."
   ]
  },
  {
   "cell_type": "code",
   "execution_count": 41,
   "metadata": {},
   "outputs": [
    {
     "name": "stdout",
     "output_type": "stream",
     "text": [
      "Wally     87\n",
      "Eva      100\n",
      "Sam       94\n",
      "dtype: int64\n"
     ]
    }
   ],
   "source": [
    "grades = pd.Series([87,100,94],['Wally','Eva','Sam'])\n",
    "print(grades)"
   ]
  },
  {
   "cell_type": "markdown",
   "metadata": {},
   "source": [
    "#### Dictionary Initializers\n",
    "\n",
    "If you initialize a `Series` with a dictionary, its keys become the `Series`' indices, and its values become the `Series`' element values."
   ]
  },
  {
   "cell_type": "code",
   "execution_count": 42,
   "metadata": {},
   "outputs": [
    {
     "name": "stdout",
     "output_type": "stream",
     "text": [
      "Wally     87\n",
      "Eva      100\n",
      "Sam       94\n",
      "dtype: int64\n"
     ]
    }
   ],
   "source": [
    "grades = pd.Series({'Wally':87,'Eva':100,'Sam':94})\n",
    "print(grades)"
   ]
  },
  {
   "cell_type": "markdown",
   "metadata": {},
   "source": [
    "#### Accessing Elements of a `Series` Via Custom Indices\n",
    "\n",
    "* In a `Series` with custom indices, you can access individual elements via square brackets containing custom index value.\n",
    "* If the custom indices are strings that could represent valid Python identifiers, pandas automatically adds them to the `Series` as attributes that you can access via a dot (.).\n",
    "* `Series` also has *built-in* attributes. For example, the **dtype** attribute returns the underlying `array`'s element type, and the **values** attribute return the underlying `array`."
   ]
  },
  {
   "cell_type": "code",
   "execution_count": 44,
   "metadata": {},
   "outputs": [
    {
     "name": "stdout",
     "output_type": "stream",
     "text": [
      "100\n",
      "\n",
      "87\n",
      "\n",
      "int64\n",
      "\n",
      "[ 87 100  94]\n"
     ]
    }
   ],
   "source": [
    "print(grades['Eva'],end='\\n\\n')\n",
    "print(grades['Wally'],end='\\n\\n')\n",
    "print(grades.dtype,end='\\n\\n')\n",
    "print(grades.values)"
   ]
  },
  {
   "cell_type": "markdown",
   "metadata": {},
   "source": [
    "#### Creating a Series of Strings\n",
    "\n",
    "* If a `Series` contains strings, you can use its **str** attribute to call string methods on the elements.\n",
    "* The **str** attribute provides many string-processing methods that are similar to those in Python's string type."
   ]
  },
  {
   "cell_type": "code",
   "execution_count": 45,
   "metadata": {},
   "outputs": [
    {
     "name": "stdout",
     "output_type": "stream",
     "text": [
      "0    Hammer\n",
      "1       Saw\n",
      "2    Wrench\n",
      "dtype: object\n",
      "\n",
      "0     True\n",
      "1     True\n",
      "2    False\n",
      "dtype: bool\n",
      "\n",
      "0    Hammer\n",
      "1       Saw\n",
      "2    Wrench\n",
      "dtype: object\n",
      "0    HAMMER\n",
      "1       SAW\n",
      "2    WRENCH\n",
      "dtype: object\n"
     ]
    }
   ],
   "source": [
    "import pandas as pd\n",
    "\n",
    "hardware = pd.Series(['Hammer','Saw','Wrench'])\n",
    "print(hardware,end='\\n\\n')\n",
    "\n",
    "has_a = hardware.str.contains('a')\n",
    "print(has_a,end='\\n\\n')\n",
    "\n",
    "upper_case = hardware.str.upper()\n",
    "print(hardware)\n",
    "print(upper_case)\n"
   ]
  },
  {
   "cell_type": "markdown",
   "metadata": {},
   "source": [
    "### `DataFrame`s\n",
    "\n",
    "* A `DataFrame` is an enhanced two-dimensional `array`.\n",
    "* Like `Series`, `DataFrame`s can have custom row and column indices, and offer additional operations and capabilities that make them more convenient for many data-science oriented tasks.\n",
    "* `DataFrame`s also support missing data.\n",
    "* Each column in a `DataFrame` is a `Series`.\n",
    "\n",
    "#### Creating a `DataFrame` from a Dictionary"
   ]
  },
  {
   "cell_type": "code",
   "execution_count": 46,
   "metadata": {},
   "outputs": [
    {
     "name": "stdout",
     "output_type": "stream",
     "text": [
      "   Wally  Eva  Sam  Katie  Bob\n",
      "0     87  100   94    100   83\n",
      "1     96   87   77     81   65\n",
      "2     70   90   90     82   85\n"
     ]
    }
   ],
   "source": [
    "import pandas as pd\n",
    "\n",
    "grades_dict = {\n",
    "    'Wally':[87,96,70],\n",
    "    'Eva': [100,87,90],\n",
    "    'Sam': [94,77,90],\n",
    "    'Katie': [100,81,82],\n",
    "    'Bob': [83,65,85]\n",
    "}\n",
    "\n",
    "grades = pd.DataFrame(grades_dict)\n",
    "print(grades)"
   ]
  },
  {
   "cell_type": "markdown",
   "metadata": {},
   "source": [
    "* The dictionary's *keys* become the column names and the *values* associated with each key become the element values in the corresponding column.\n",
    "* By default, the row indices are auto-generated integers starting from 0."
   ]
  },
  {
   "cell_type": "markdown",
   "metadata": {},
   "source": [
    "#### Customizing a `DataFrame`'s Indices with the **index** Attribute\n",
    "\n",
    "* We can specify custom indices with the `index` keyword argument."
   ]
  },
  {
   "cell_type": "code",
   "execution_count": 49,
   "metadata": {},
   "outputs": [
    {
     "name": "stdout",
     "output_type": "stream",
     "text": [
      "       Wally  Eva  Sam  Katie  Bob\n",
      "Test1     87  100   94    100   83\n",
      "Test2     96   87   77     81   65\n",
      "Test3     70   90   90     82   85\n"
     ]
    }
   ],
   "source": [
    "import pandas as pd\n",
    "\n",
    "grades_dict = {\n",
    "    'Wally':[87,96,70],\n",
    "    'Eva': [100,87,90],\n",
    "    'Sam': [94,77,90],\n",
    "    'Katie': [100,81,82],\n",
    "    'Bob': [83,65,85]\n",
    "}\n",
    "grades = pd.DataFrame(grades_dict,index=['Test1','Test2','Test3'])\n",
    "print(grades)"
   ]
  },
  {
   "cell_type": "markdown",
   "metadata": {},
   "source": [
    "* We can use the `index` attribute to change the `DataFrame`'s indices from sequential integers to labels."
   ]
  },
  {
   "cell_type": "code",
   "execution_count": 51,
   "metadata": {},
   "outputs": [
    {
     "name": "stdout",
     "output_type": "stream",
     "text": [
      "   Wally  Eva  Sam  Katie  Bob\n",
      "0     87  100   94    100   83\n",
      "1     96   87   77     81   65\n",
      "2     70   90   90     82   85\n",
      "\n",
      "       Wally  Eva  Sam  Katie  Bob\n",
      "Test1     87  100   94    100   83\n",
      "Test2     96   87   77     81   65\n",
      "Test3     70   90   90     82   85\n"
     ]
    }
   ],
   "source": [
    "import pandas as pd\n",
    "\n",
    "grades_dict = {\n",
    "    'Wally':[87,96,70],\n",
    "    'Eva': [100,87,90],\n",
    "    'Sam': [94,77,90],\n",
    "    'Katie': [100,81,82],\n",
    "    'Bob': [83,65,85]\n",
    "}\n",
    "\n",
    "grades = pd.DataFrame(grades_dict)\n",
    "print(grades,end='\\n\\n')\n",
    "grades.index = ['Test1','Test2','Test3']\n",
    "print(grades)"
   ]
  },
  {
   "cell_type": "markdown",
   "metadata": {},
   "source": [
    "* When specifying the indices, you must provide a one-dimensional collection that has the same number of elements as there are *rows* in the `DataFrame`.\n",
    "* `Series` also provides an **index** attribute for changing an existing `Series`' indices."
   ]
  },
  {
   "cell_type": "markdown",
   "metadata": {},
   "source": [
    "#### Accessing a `DataFrame`'s Columns\n",
    "\n",
    "* One benefit of pandas is that you can quickly and conveniently look at your data in many different ways, including selecting portions of the data."
   ]
  },
  {
   "cell_type": "code",
   "execution_count": 52,
   "metadata": {},
   "outputs": [
    {
     "name": "stdout",
     "output_type": "stream",
     "text": [
      "       Wally  Eva  Sam  Katie  Bob\n",
      "Test1     87  100   94    100   83\n",
      "Test2     96   87   77     81   65\n",
      "Test3     70   90   90     82   85\n",
      "\n",
      "Test1    100\n",
      "Test2     87\n",
      "Test3     90\n",
      "Name: Eva, dtype: int64\n"
     ]
    }
   ],
   "source": [
    "import pandas as pd\n",
    "\n",
    "grades_dict = {\n",
    "    'Wally':[87,96,70],\n",
    "    'Eva': [100,87,90],\n",
    "    'Sam': [94,77,90],\n",
    "    'Katie': [100,81,82],\n",
    "    'Bob': [83,65,85]\n",
    "}\n",
    "grades = pd.DataFrame(grades_dict,index=['Test1','Test2','Test3'])\n",
    "print(grades,end='\\n\\n')\n",
    "\n",
    "print(grades['Eva'])"
   ]
  },
  {
   "cell_type": "markdown",
   "metadata": {},
   "source": [
    "* If a `DataFrame`'s column-name strings are valid Python identifiers, you can use them as attributes."
   ]
  },
  {
   "cell_type": "code",
   "execution_count": 53,
   "metadata": {},
   "outputs": [
    {
     "name": "stdout",
     "output_type": "stream",
     "text": [
      "Test1    94\n",
      "Test2    77\n",
      "Test3    90\n",
      "Name: Sam, dtype: int64\n"
     ]
    }
   ],
   "source": [
    "print(grades.Sam)"
   ]
  },
  {
   "cell_type": "markdown",
   "metadata": {},
   "source": [
    "#### Selecting Rows via the `loc` and `iloc` Attributes\n",
    "\n",
    "* Though `DataFrame`s support indexing capabilities with [], the pandas documentation recommends using the attributes `loc`, `iloc`, `at`, and `iat`, which are optimized to access `DataFrame`s and also provide additional capabilities beyond what you can do with [].\n",
    "* The documentation also states that indexing with [] *often* produces a copy of the data, which is a logic error if you attempt to assign new values to the `DataFrame` by assigning to the result of the [] operation."
   ]
  },
  {
   "cell_type": "code",
   "execution_count": 55,
   "metadata": {},
   "outputs": [
    {
     "name": "stdout",
     "output_type": "stream",
     "text": [
      "Wally     87\n",
      "Eva      100\n",
      "Sam       94\n",
      "Katie    100\n",
      "Bob       83\n",
      "Name: Test1, dtype: int64\n",
      "\n",
      "Wally    96\n",
      "Eva      87\n",
      "Sam      77\n",
      "Katie    81\n",
      "Bob      65\n",
      "Name: Test2, dtype: int64\n"
     ]
    }
   ],
   "source": [
    "import pandas as pd\n",
    "\n",
    "grades_dict = {\n",
    "    'Wally':[87,96,70],\n",
    "    'Eva': [100,87,90],\n",
    "    'Sam': [94,77,90],\n",
    "    'Katie': [100,81,82],\n",
    "    'Bob': [83,65,85]\n",
    "}\n",
    "grades = pd.DataFrame(grades_dict,index=['Test1','Test2','Test3'])\n",
    "\n",
    "print(grades.loc['Test1'],end='\\n\\n')\n",
    "print(grades.iloc[1])"
   ]
  },
  {
   "cell_type": "markdown",
   "metadata": {},
   "source": [
    "#### Slecting Rows via Slices and Lists with the `loc` and `iloc` Attributes\n",
    "\n",
    "* The index can be a *slice*.\n",
    "* When using slices containing labels with `loc`, the range specified *includes* the high index.\n",
    "* When using slices containing integer indices with `iloc`, the range you specify *excludes* the high index.\n",
    "* To select *specific rows*, use a *list* rather than slice notation with `loc` or `iloc`."
   ]
  },
  {
   "cell_type": "code",
   "execution_count": 62,
   "metadata": {},
   "outputs": [
    {
     "name": "stdout",
     "output_type": "stream",
     "text": [
      "       Wally  Eva  Sam  Katie  Bob\n",
      "Test1     87  100   94    100   83\n",
      "Test2     96   87   77     81   65\n",
      "Test3     70   90   90     82   85\n",
      "\n",
      "       Wally  Eva  Sam  Katie  Bob\n",
      "Test1     87  100   94    100   83\n",
      "Test2     96   87   77     81   65\n",
      "\n",
      "       Wally  Eva  Sam  Katie  Bob\n",
      "Test1     87  100   94    100   83\n",
      "Test3     70   90   90     82   85\n",
      "\n",
      "       Wally  Eva  Sam  Katie  Bob\n",
      "Test1     87  100   94    100   83\n",
      "Test3     70   90   90     82   85\n"
     ]
    }
   ],
   "source": [
    "import pandas as pd\n",
    "\n",
    "grades_dict = {\n",
    "    'Wally':[87,96,70],\n",
    "    'Eva': [100,87,90],\n",
    "    'Sam': [94,77,90],\n",
    "    'Katie': [100,81,82],\n",
    "    'Bob': [83,65,85]\n",
    "}\n",
    "grades = pd.DataFrame(grades_dict,index=['Test1','Test2','Test3'])\n",
    "\n",
    "print(grades.loc['Test1':'Test3'],end='\\n\\n')\n",
    "print(grades.iloc[0:2],end='\\n\\n')\n",
    "\n",
    "print(grades.loc[['Test1','Test3']],end='\\n\\n')\n",
    "print(grades.iloc[[0,2]])"
   ]
  },
  {
   "cell_type": "markdown",
   "metadata": {},
   "source": [
    "#### Selecting Subsets of the Rows and Columns\n",
    "\n",
    "* You can focus on small subsets of a `DataFrame` by selecting rows *and* columns using two slices, two lists, or a combination of slices and lists"
   ]
  },
  {
   "cell_type": "code",
   "execution_count": 64,
   "metadata": {},
   "outputs": [
    {
     "name": "stdout",
     "output_type": "stream",
     "text": [
      "       Eva  Katie\n",
      "Test1  100    100\n",
      "Test2   87     81\n",
      "\n",
      "       Wally  Eva  Sam\n",
      "Test1     87  100   94\n",
      "Test3     70   90   90\n"
     ]
    }
   ],
   "source": [
    "import pandas as pd\n",
    "\n",
    "grades_dict = {\n",
    "    'Wally':[87,96,70],\n",
    "    'Eva': [100,87,90],\n",
    "    'Sam': [94,77,90],\n",
    "    'Katie': [100,81,82],\n",
    "    'Bob': [83,65,85]\n",
    "}\n",
    "grades = pd.DataFrame(grades_dict,index=['Test1','Test2','Test3'])\n",
    "\n",
    "print(grades.loc['Test1':'Test2',['Eva','Katie']],end='\\n\\n')\n",
    "print(grades.iloc[[0,2],0:3])"
   ]
  },
  {
   "cell_type": "markdown",
   "metadata": {},
   "source": [
    "#### Boolean Indexing\n",
    "\n",
    "* One of pandas' more powerful selection capabilities is **Boolean indexing**."
   ]
  },
  {
   "cell_type": "code",
   "execution_count": 66,
   "metadata": {},
   "outputs": [
    {
     "name": "stdout",
     "output_type": "stream",
     "text": [
      "       Wally    Eva    Sam  Katie    Bob\n",
      "Test1  False   True   True   True  False\n",
      "Test2   True  False  False  False  False\n",
      "Test3  False   True   True  False  False\n",
      "\n"
     ]
    },
    {
     "data": {
      "text/html": [
       "<div>\n",
       "<style scoped>\n",
       "    .dataframe tbody tr th:only-of-type {\n",
       "        vertical-align: middle;\n",
       "    }\n",
       "\n",
       "    .dataframe tbody tr th {\n",
       "        vertical-align: top;\n",
       "    }\n",
       "\n",
       "    .dataframe thead th {\n",
       "        text-align: right;\n",
       "    }\n",
       "</style>\n",
       "<table border=\"1\" class=\"dataframe\">\n",
       "  <thead>\n",
       "    <tr style=\"text-align: right;\">\n",
       "      <th></th>\n",
       "      <th>Wally</th>\n",
       "      <th>Eva</th>\n",
       "      <th>Sam</th>\n",
       "      <th>Katie</th>\n",
       "      <th>Bob</th>\n",
       "    </tr>\n",
       "  </thead>\n",
       "  <tbody>\n",
       "    <tr>\n",
       "      <th>Test1</th>\n",
       "      <td>NaN</td>\n",
       "      <td>100.0</td>\n",
       "      <td>94.0</td>\n",
       "      <td>100.0</td>\n",
       "      <td>NaN</td>\n",
       "    </tr>\n",
       "    <tr>\n",
       "      <th>Test2</th>\n",
       "      <td>96.0</td>\n",
       "      <td>NaN</td>\n",
       "      <td>NaN</td>\n",
       "      <td>NaN</td>\n",
       "      <td>NaN</td>\n",
       "    </tr>\n",
       "    <tr>\n",
       "      <th>Test3</th>\n",
       "      <td>NaN</td>\n",
       "      <td>90.0</td>\n",
       "      <td>90.0</td>\n",
       "      <td>NaN</td>\n",
       "      <td>NaN</td>\n",
       "    </tr>\n",
       "  </tbody>\n",
       "</table>\n",
       "</div>"
      ],
      "text/plain": [
       "       Wally    Eva   Sam  Katie  Bob\n",
       "Test1    NaN  100.0  94.0  100.0  NaN\n",
       "Test2   96.0    NaN   NaN    NaN  NaN\n",
       "Test3    NaN   90.0  90.0    NaN  NaN"
      ]
     },
     "execution_count": 66,
     "metadata": {},
     "output_type": "execute_result"
    }
   ],
   "source": [
    "import pandas as pd\n",
    "\n",
    "grades_dict = {\n",
    "    'Wally':[87,96,70],\n",
    "    'Eva': [100,87,90],\n",
    "    'Sam': [94,77,90],\n",
    "    'Katie': [100,81,82],\n",
    "    'Bob': [83,65,85]\n",
    "}\n",
    "grades = pd.DataFrame(grades_dict,index=['Test1','Test2','Test3'])\n",
    "\n",
    "print(grades >= 90,end='\\n\\n')\n",
    "grades[grades >= 90]"
   ]
  },
  {
   "cell_type": "markdown",
   "metadata": {},
   "source": [
    "* Pandas checks every grade to determine whether its value is greater than or equal to 90 and, if so, includes it in the new `DataFrame`.\n",
    "* Grades for which the condition is `False` are represented as **NaN (not a number)** in the new `DataFrame`.\n",
    "* `NaN` is pandas' notation for missing values."
   ]
  },
  {
   "cell_type": "code",
   "execution_count": 68,
   "metadata": {},
   "outputs": [
    {
     "name": "stdout",
     "output_type": "stream",
     "text": [
      "       Wally   Eva  Sam  Katie   Bob\n",
      "Test1   87.0   NaN  NaN    NaN  83.0\n",
      "Test2    NaN  87.0  NaN   81.0   NaN\n",
      "Test3    NaN   NaN  NaN   82.0  85.0\n"
     ]
    }
   ],
   "source": [
    "print(grades[(grades >= 80) & (grades < 90)])"
   ]
  },
  {
   "cell_type": "markdown",
   "metadata": {},
   "source": [
    "* Pandas Boolean indices combine multiple conditions with the Python operator & (bitwise AND), *not* the `and` Boolean operator.\n",
    "* For `or` conditions, use | (bitwise OR).\n",
    "* NumPy also supports Boolean indexing for `array`s, but always returns a one-dimensional array containing only the values that satisfy the condition."
   ]
  },
  {
   "cell_type": "markdown",
   "metadata": {},
   "source": [
    "#### Accessing a Specific `DataFrame` Cell by Row and Column\n",
    "\n",
    "* You can use a `DataFrame`'s `at` and `iat` to get a single value from a `DataFrame`.\n",
    "* Like `loc` and `iloc`, `at` uses labels and `iat` uses integer indices.\n",
    "* In each case, the row and column indices must be separated by a comma."
   ]
  },
  {
   "cell_type": "code",
   "execution_count": 69,
   "metadata": {},
   "outputs": [
    {
     "name": "stdout",
     "output_type": "stream",
     "text": [
      "87\n",
      "\n",
      "70\n"
     ]
    }
   ],
   "source": [
    "print(grades.at['Test2','Eva'],end='\\n\\n')\n",
    "print(grades.iat[2,0])"
   ]
  },
  {
   "cell_type": "markdown",
   "metadata": {},
   "source": [
    "* You can also assign new values to specific elements."
   ]
  },
  {
   "cell_type": "code",
   "execution_count": 70,
   "metadata": {},
   "outputs": [
    {
     "name": "stdout",
     "output_type": "stream",
     "text": [
      "       Wally  Eva  Sam  Katie  Bob\n",
      "Test1     87  100   94    100   83\n",
      "Test2     96   87   77     81   65\n",
      "Test3     70   90   90     82   85\n",
      "\n",
      "       Wally  Eva  Sam  Katie  Bob\n",
      "Test1     87  100   94    100   83\n",
      "Test2     96  100   77     81   65\n",
      "Test3     70   90   90     82   85\n",
      "\n",
      "       Wally  Eva  Sam  Katie  Bob\n",
      "Test1     87  100   94    100   83\n",
      "Test2     96  100   87     81   65\n",
      "Test3     70   90   90     82   85\n"
     ]
    }
   ],
   "source": [
    "print(grades,end='\\n\\n')\n",
    "\n",
    "grades.at['Test2','Eva'] = 100\n",
    "print(grades,end='\\n\\n')\n",
    "\n",
    "grades.iat[1,2] = 87\n",
    "print(grades)"
   ]
  },
  {
   "cell_type": "markdown",
   "metadata": {},
   "source": [
    "#### Descriptive Statistics\n",
    "\n",
    "* Both `Series` and `DataFrame`s have a **describe** method that calculates basic descriptive statistics fro the data and returns them as a `DataFrame`.\n",
    "* In a `DataFrame`, the statistics are calculated by column."
   ]
  },
  {
   "cell_type": "code",
   "execution_count": 71,
   "metadata": {},
   "outputs": [
    {
     "name": "stdout",
     "output_type": "stream",
     "text": [
      "           Wally         Eva        Sam       Katie        Bob\n",
      "count   3.000000    3.000000   3.000000    3.000000   3.000000\n",
      "mean   84.333333   92.333333  87.000000   87.666667  77.666667\n",
      "std    13.203535    6.806859   8.888194   10.692677  11.015141\n",
      "min    70.000000   87.000000  77.000000   81.000000  65.000000\n",
      "25%    78.500000   88.500000  83.500000   81.500000  74.000000\n",
      "50%    87.000000   90.000000  90.000000   82.000000  83.000000\n",
      "75%    91.500000   95.000000  92.000000   91.000000  84.000000\n",
      "max    96.000000  100.000000  94.000000  100.000000  85.000000\n"
     ]
    }
   ],
   "source": [
    "import pandas as pd\n",
    "\n",
    "grades_dict = {\n",
    "    'Wally':[87,96,70],\n",
    "    'Eva': [100,87,90],\n",
    "    'Sam': [94,77,90],\n",
    "    'Katie': [100,81,82],\n",
    "    'Bob': [83,65,85]\n",
    "}\n",
    "grades = pd.DataFrame(grades_dict,index=['Test1','Test2','Test3'])\n",
    "\n",
    "statistics = grades.describe()\n",
    "print(statistics)"
   ]
  },
  {
   "cell_type": "markdown",
   "metadata": {},
   "source": [
    "* By default, pandas calculates the descriptive statistics with floating-point values and displays them with six digits of precision.\n",
    "* You can control the precision and other default settings with the pandas' **set_option** function."
   ]
  },
  {
   "cell_type": "code",
   "execution_count": 76,
   "metadata": {},
   "outputs": [
    {
     "name": "stdout",
     "output_type": "stream",
     "text": [
      "       Wally     Eva    Sam   Katie    Bob\n",
      "count   3.00    3.00   3.00    3.00   3.00\n",
      "mean   84.33   92.33  87.00   87.67  77.67\n",
      "std    13.20    6.81   8.89   10.69  11.02\n",
      "min    70.00   87.00  77.00   81.00  65.00\n",
      "25%    78.50   88.50  83.50   81.50  74.00\n",
      "50%    87.00   90.00  90.00   82.00  83.00\n",
      "75%    91.50   95.00  92.00   91.00  84.00\n",
      "max    96.00  100.00  94.00  100.00  85.00\n",
      "\n",
      "Wally    84.33\n",
      "Eva      92.33\n",
      "Sam      87.00\n",
      "Katie    87.67\n",
      "Bob      77.67\n",
      "dtype: float64\n"
     ]
    }
   ],
   "source": [
    "pd.set_option('display.precision',2)\n",
    "print(grades.describe(),end='\\n\\n')\n",
    "\n",
    "print(grades.mean())"
   ]
  },
  {
   "cell_type": "markdown",
   "metadata": {},
   "source": [
    "#### Transposing the `DataFrame` with the **T** Attribute\n",
    "\n",
    "* You can quickly **transpose** the rwos and columns by using the **T** attribute.\n",
    "* **T** returns a transposed *view* (not a copy) of the `DataFrame`."
   ]
  },
  {
   "cell_type": "code",
   "execution_count": 78,
   "metadata": {},
   "outputs": [
    {
     "name": "stdout",
     "output_type": "stream",
     "text": [
      "       Test1  Test2  Test3\n",
      "Wally     87     96     70\n",
      "Eva      100     87     90\n",
      "Sam       94     77     90\n",
      "Katie    100     81     82\n",
      "Bob       83     65     85\n",
      "\n",
      "        Test1  Test2  Test3\n",
      "count    5.00   5.00   5.00\n",
      "mean    92.80  81.20  83.40\n",
      "std      7.66  11.54   8.23\n",
      "min     83.00  65.00  70.00\n",
      "25%     87.00  77.00  82.00\n",
      "50%     94.00  81.00  85.00\n",
      "75%    100.00  87.00  90.00\n",
      "max    100.00  96.00  90.00\n",
      "\n",
      "Test1    92.8\n",
      "Test2    81.2\n",
      "Test3    83.4\n",
      "dtype: float64\n"
     ]
    }
   ],
   "source": [
    "print(grades.T,end='\\n\\n')\n",
    "\n",
    "print(grades.T.describe(),end='\\n\\n')\n",
    "print(grades.T.mean())"
   ]
  },
  {
   "cell_type": "markdown",
   "metadata": {},
   "source": [
    "#### Sorting by Rows by Their Indices\n",
    "\n",
    "* You can sort a `DataFrame` by its rows or columns, based on their indices or values.\n",
    "* The **sort_index** method returns a new `DataFrame` containing the sorted data."
   ]
  },
  {
   "cell_type": "code",
   "execution_count": 80,
   "metadata": {},
   "outputs": [
    {
     "name": "stdout",
     "output_type": "stream",
     "text": [
      "       Wally  Eva  Sam  Katie  Bob\n",
      "Test3     70   90   90     82   85\n",
      "Test2     96   87   77     81   65\n",
      "Test1     87  100   94    100   83\n"
     ]
    }
   ],
   "source": [
    "import pandas as pd\n",
    "\n",
    "grades_dict = {\n",
    "    'Wally':[87,96,70],\n",
    "    'Eva': [100,87,90],\n",
    "    'Sam': [94,77,90],\n",
    "    'Katie': [100,81,82],\n",
    "    'Bob': [83,65,85]\n",
    "}\n",
    "grades = pd.DataFrame(grades_dict,index=['Test1','Test2','Test3'])\n",
    "\n",
    "sorted_grades = grades.sort_index(ascending=False) # default is True\n",
    "print(sorted_grades)"
   ]
  },
  {
   "cell_type": "markdown",
   "metadata": {},
   "source": [
    "#### Sorting by Column Indices\n",
    "\n",
    "* Passing the **`axis=1`** keyword argument indicates that we wish to sort the *column* indices, rather than the row indices &mdash; `axis=0` (the default) sorts the *row* indices."
   ]
  },
  {
   "cell_type": "code",
   "execution_count": 81,
   "metadata": {},
   "outputs": [
    {
     "data": {
      "text/html": [
       "<div>\n",
       "<style scoped>\n",
       "    .dataframe tbody tr th:only-of-type {\n",
       "        vertical-align: middle;\n",
       "    }\n",
       "\n",
       "    .dataframe tbody tr th {\n",
       "        vertical-align: top;\n",
       "    }\n",
       "\n",
       "    .dataframe thead th {\n",
       "        text-align: right;\n",
       "    }\n",
       "</style>\n",
       "<table border=\"1\" class=\"dataframe\">\n",
       "  <thead>\n",
       "    <tr style=\"text-align: right;\">\n",
       "      <th></th>\n",
       "      <th>Bob</th>\n",
       "      <th>Eva</th>\n",
       "      <th>Katie</th>\n",
       "      <th>Sam</th>\n",
       "      <th>Wally</th>\n",
       "    </tr>\n",
       "  </thead>\n",
       "  <tbody>\n",
       "    <tr>\n",
       "      <th>Test1</th>\n",
       "      <td>83</td>\n",
       "      <td>100</td>\n",
       "      <td>100</td>\n",
       "      <td>94</td>\n",
       "      <td>87</td>\n",
       "    </tr>\n",
       "    <tr>\n",
       "      <th>Test2</th>\n",
       "      <td>65</td>\n",
       "      <td>87</td>\n",
       "      <td>81</td>\n",
       "      <td>77</td>\n",
       "      <td>96</td>\n",
       "    </tr>\n",
       "    <tr>\n",
       "      <th>Test3</th>\n",
       "      <td>85</td>\n",
       "      <td>90</td>\n",
       "      <td>82</td>\n",
       "      <td>90</td>\n",
       "      <td>70</td>\n",
       "    </tr>\n",
       "  </tbody>\n",
       "</table>\n",
       "</div>"
      ],
      "text/plain": [
       "       Bob  Eva  Katie  Sam  Wally\n",
       "Test1   83  100    100   94     87\n",
       "Test2   65   87     81   77     96\n",
       "Test3   85   90     82   90     70"
      ]
     },
     "execution_count": 81,
     "metadata": {},
     "output_type": "execute_result"
    }
   ],
   "source": [
    "import pandas as pd\n",
    "\n",
    "grades_dict = {\n",
    "    'Wally':[87,96,70],\n",
    "    'Eva': [100,87,90],\n",
    "    'Sam': [94,77,90],\n",
    "    'Katie': [100,81,82],\n",
    "    'Bob': [83,65,85]\n",
    "}\n",
    "grades = pd.DataFrame(grades_dict,index=['Test1','Test2','Test3'])\n",
    "\n",
    "grades.sort_index(axis=1)"
   ]
  },
  {
   "cell_type": "markdown",
   "metadata": {},
   "source": [
    "#### Sorting by Column Values\n",
    "\n",
    "* We can call the method **`sort_values`** to sort by column values.\n",
    "* The `by` and `axis` keyword arguments work together to determine which values will be sorted."
   ]
  },
  {
   "cell_type": "code",
   "execution_count": 85,
   "metadata": {},
   "outputs": [
    {
     "name": "stdout",
     "output_type": "stream",
     "text": [
      "       Wally  Eva  Sam  Katie  Bob\n",
      "Test1     87  100   94    100   83\n",
      "Test2     96   87   77     81   65\n",
      "Test3     70   90   90     82   85\n",
      "\n",
      "       Eva  Katie  Sam  Wally  Bob\n",
      "Test1  100    100   94     87   83\n",
      "Test2   87     81   77     96   65\n",
      "Test3   90     82   90     70   85\n",
      "\n",
      "       Wally  Eva  Sam  Katie  Bob\n",
      "Test2     96   87   77     81   65\n",
      "Test3     70   90   90     82   85\n",
      "Test1     87  100   94    100   83\n"
     ]
    }
   ],
   "source": [
    "grades_dict = {\n",
    "    'Wally':[87,96,70],\n",
    "    'Eva': [100,87,90],\n",
    "    'Sam': [94,77,90],\n",
    "    'Katie': [100,81,82],\n",
    "    'Bob': [83,65,85]\n",
    "}\n",
    "grades = pd.DataFrame(grades_dict,index=['Test1','Test2','Test3'])\n",
    "print(grades,end='\\n\\n')\n",
    "\n",
    "print(grades.sort_values(by='Test1',axis=1,ascending=False),end='\\n\\n')\n",
    "print(grades.sort_values(by='Sam')) # default is axis=0"
   ]
  },
  {
   "cell_type": "markdown",
   "metadata": {},
   "source": [
    "* We can also sort the transposed `DataFrame` instead."
   ]
  },
  {
   "cell_type": "code",
   "execution_count": 86,
   "metadata": {},
   "outputs": [
    {
     "name": "stdout",
     "output_type": "stream",
     "text": [
      "       Test1  Test2  Test3\n",
      "Eva      100     87     90\n",
      "Katie    100     81     82\n",
      "Sam       94     77     90\n",
      "Wally     87     96     70\n",
      "Bob       83     65     85\n"
     ]
    }
   ],
   "source": [
    "print(grades.T.sort_values(by='Test1',ascending=False))"
   ]
  },
  {
   "cell_type": "markdown",
   "metadata": {},
   "source": [
    "* We can combine selection with sorting to view data of interest only."
   ]
  },
  {
   "cell_type": "code",
   "execution_count": 91,
   "metadata": {},
   "outputs": [
    {
     "name": "stdout",
     "output_type": "stream",
     "text": [
      "Eva      100\n",
      "Katie    100\n",
      "Sam       94\n",
      "Wally     87\n",
      "Bob       83\n",
      "Name: Test1, dtype: int64\n",
      "\n",
      "       Test1  Test2\n",
      "Wally     87     96\n",
      "Eva      100     87\n",
      "Katie    100     81\n",
      "Sam       94     77\n",
      "Bob       83     65\n"
     ]
    }
   ],
   "source": [
    "print(grades.loc['Test1'].sort_values(ascending=False),end='\\n\\n')\n",
    "\n",
    "print(grades.iloc[0:2].T.sort_values(by='Test2',ascending=False))"
   ]
  },
  {
   "cell_type": "markdown",
   "metadata": {},
   "source": [
    "#### Copy vs. In-Place Sorting\n",
    "\n",
    "* By default the `sort_index` and `sort_values` return a *copy* of the original `DataFrame`, which could require substantial memory in a big data application.\n",
    "* To sort the `DataFrame` *in place* rather than *copying* the data, pass the keyword argument `inplace=True` to either `sort_index` or `sort_values`."
   ]
  },
  {
   "cell_type": "code",
   "execution_count": 96,
   "metadata": {},
   "outputs": [
    {
     "name": "stdout",
     "output_type": "stream",
     "text": [
      "       Wally  Eva  Sam  Katie  Bob\n",
      "Test1     87  100   94    100   83\n",
      "Test2     96   87   77     81   65\n",
      "Test3     70   90   90     82   85\n",
      "\n",
      "       Eva  Katie  Sam  Wally  Bob\n",
      "Test1  100    100   94     87   83\n",
      "Test2   87     81   77     96   65\n",
      "Test3   90     82   90     70   85\n"
     ]
    }
   ],
   "source": [
    "print(grades,end='\\n\\n')\n",
    "grades.sort_values(by='Test1',axis=1,ascending=False,inplace=True)\n",
    "\n",
    "print(grades)"
   ]
  },
  {
   "cell_type": "markdown",
   "metadata": {},
   "source": [
    "#### Practice\n",
    "Given the `temps` dictionary, perform the following tasks:\n",
    "1. Convert the dictionary into the `DataFrame` named `temperatures` with `'Low'` and `'High'` as the indices, than display the `DataFrame`.\n",
    "2. Use the column names to select only the columns for `'Mon'` through `'Wed'`.\n",
    "3. Use the row index `'Low'` to select only the low temperatures for each day.\n",
    "4. Set the floating-point precision to 2, then calculate the average temperature for each day.\n",
    "5. Calculate the average low and high temperatures."
   ]
  },
  {
   "cell_type": "code",
   "execution_count": 102,
   "metadata": {},
   "outputs": [
    {
     "name": "stdout",
     "output_type": "stream",
     "text": [
      "      Mon  Tue  Wed  Thu  Fri\n",
      "Low    68   71   66   75   62\n",
      "High   89   93   82   97   79\n",
      "\n",
      "      Mon  Tue  Wed\n",
      "Low    68   71   66\n",
      "High   89   93   82\n",
      "\n",
      "Mon    68\n",
      "Tue    71\n",
      "Wed    66\n",
      "Thu    75\n",
      "Fri    62\n",
      "Name: Low, dtype: int64\n",
      "\n",
      "Mon    78.5\n",
      "Tue    82.0\n",
      "Wed    74.0\n",
      "Thu    86.0\n",
      "Fri    70.5\n",
      "dtype: float64\n",
      "\n",
      "Low     68.4\n",
      "High    88.0\n",
      "dtype: float64\n"
     ]
    }
   ],
   "source": [
    "temps = {\n",
    "    'Mon':[68,89],'Tue':[71,93],'Wed':[66,82],\n",
    "    'Thu':[75,97],'Fri':[62,79]\n",
    "}\n",
    "\n",
    "# task 1\n",
    "temperatures = pd.DataFrame(temps,index=['Low','High'])\n",
    "print(temperatures,end='\\n\\n')\n",
    "# task 2\n",
    "print(temperatures.loc[:,'Mon':'Wed'],end='\\n\\n')\n",
    "# task 3\n",
    "print(temperatures.loc['Low'],end='\\n\\n')\n",
    "# task 4\n",
    "pd.set_option('display.precision',2)\n",
    "print(temperatures.mean(),end='\\n\\n')\n",
    "# task 5\n",
    "print(temperatures.mean(axis=1))"
   ]
  },
  {
   "cell_type": "markdown",
   "metadata": {},
   "source": [
    "## 7.15 Wrap-Up\n",
    "\n",
    "#### NumPy\n",
    "We have explored the use of NumPy's high-performance `ndarray`s for \n",
    "\n",
    "* storing and retrieving data, and\n",
    "* performing common data manipulations\n",
    "\n",
    "concisely and with reduced chance of errors.\n",
    "\n",
    "You should be familiar with:\n",
    "\n",
    "* The creation, initialization, and reference to individual elements of one- and two-dimensional `array`s.\n",
    "* Use of attributes to determine an `array`'s size, shape, and element type.\n",
    "\n",
    "Operations on `array`s:\n",
    "\n",
    "* Use `array` operators and universal functions to perform element-wise calculations.\n",
    "* Broadcasting.\n",
    "* Built-in `array` methods for performing calculations using all elements of an `array`, or row-by-row or column-by-column.\n",
    "* Indexing and slicing.\n",
    "* Reshape.\n",
    "* Shallow and deep copy.\n",
    "\n",
    "#### pandas\n",
    "\n",
    "* How to create and manipulate pandas `Series` and `DataFrame`s.\n",
    "* How to customize `Series` and `DataFrame` indices.\n",
    "* How to set display precision.\n",
    "* How to access and select data.\n",
    "* `describe`\n",
    "* The `T` attribute.\n",
    "* Ways to sort `DataFrame`s."
   ]
  },
  {
   "cell_type": "code",
   "execution_count": null,
   "metadata": {},
   "outputs": [],
   "source": []
  }
 ],
 "metadata": {
  "kernelspec": {
   "display_name": "Python 3 (ipykernel)",
   "language": "python",
   "name": "python3"
  },
  "language_info": {
   "codemirror_mode": {
    "name": "ipython",
    "version": 3
   },
   "file_extension": ".py",
   "mimetype": "text/x-python",
   "name": "python",
   "nbconvert_exporter": "python",
   "pygments_lexer": "ipython3",
   "version": "3.10.9"
  }
 },
 "nbformat": 4,
 "nbformat_minor": 2
}
